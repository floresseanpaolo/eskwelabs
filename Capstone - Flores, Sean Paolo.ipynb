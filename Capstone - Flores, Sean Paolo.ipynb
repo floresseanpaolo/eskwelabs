{
 "cells": [
  {
   "cell_type": "markdown",
   "metadata": {},
   "source": [
    "<h1>Banking Dataset - Identfying target customers for efficient telemarketing</h1>\n",
    "https://www.kaggle.com/prakharrathi25/banking-dataset-marketing-targets#test.csv"
   ]
  },
  {
   "cell_type": "markdown",
   "metadata": {},
   "source": [
    "<h2>Capstone Background</h2>"
   ]
  },
  {
   "cell_type": "markdown",
   "metadata": {},
   "source": [
    "There are different sources of income for a bank and one of them are term deposits. A term deposit is a cash investment held at a financial institution. Your money is invested for an agreed rate of interest over a fixed amount of time, or term. There are different ways on how banks entice customers to invest in term deposits such as broadcasting advertising, digital marketing, and telemarketing. Telemarketing campaigns still remains to be an effective way in convincing prospective customers to subscribe in term deposits since it provides a channel where call center agents easily connect with the customers.  One of the major disadvantages of telemarketing is it can be costly both monetarily and in manpower hours. Identifying target customers beforehand will ensure that the trade-off for the telemarketing costs is well spent."
   ]
  },
  {
   "cell_type": "markdown",
   "metadata": {},
   "source": [
    "<h2>Questions to be answered</h2>"
   ]
  },
  {
   "cell_type": "markdown",
   "metadata": {},
   "source": [
    "<ul>\n",
    "    <li>What key factors indicates that a customer is most likely to invest in a term deposit?</li>\n",
    "    <li>Predict which customers should be targeted for telemarketing</li>\n",
    "</ul>"
   ]
  },
  {
   "cell_type": "markdown",
   "metadata": {},
   "source": [
    "<h2>Information about the data</h2>"
   ]
  },
  {
   "cell_type": "markdown",
   "metadata": {},
   "source": [
    "The training set has 31.6k rows while the test set has 13.6k rows. The datasets has columns describing customers characteristics and other previous banking information which can be used to train the model. "
   ]
  },
  {
   "cell_type": "markdown",
   "metadata": {},
   "source": [
    "<h2>Reason for choosing this data</h2>"
   ]
  },
  {
   "cell_type": "markdown",
   "metadata": {},
   "source": [
    "I chose this data since I would like to know more on how statistical or machine learning techniques can be applied in predicting factors that include human behavior. "
   ]
  }
 ],
 "metadata": {
  "kernelspec": {
   "display_name": "Python 3",
   "language": "python",
   "name": "python3"
  },
  "language_info": {
   "codemirror_mode": {
    "name": "ipython",
    "version": 3
   },
   "file_extension": ".py",
   "mimetype": "text/x-python",
   "name": "python",
   "nbconvert_exporter": "python",
   "pygments_lexer": "ipython3",
   "version": "3.7.1"
  }
 },
 "nbformat": 4,
 "nbformat_minor": 2
}
