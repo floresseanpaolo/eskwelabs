{
 "cells": [
  {
   "cell_type": "markdown",
   "metadata": {
    "colab_type": "text",
    "id": "51dZwqDNc9x6"
   },
   "source": [
    "# Data Science - Getting Started with Python\n",
    "\n",
    "Following are exercises you should complete. Workflow:\n",
    "\n",
    "1. Complete the exercises! This means fill out the code cells, and run them (shift-enter or click the play button that appears when you're in one of them)\n",
    "2. Take a look at your work, and write comments/add text cells as appropriate to explain\n",
    "3. Upload the notebook to your GitHub repository and submit a link [here](https://docs.google.com/forms/d/e/1FAIpQLScdlw-GN3tHPHxROIulxoPmxXmvK-UmXco3lgjiJ0Ckltn6QA/viewform?usp=sf_link)"
   ]
  },
  {
   "cell_type": "markdown",
   "metadata": {
    "colab_type": "text",
    "id": "I6biutgwdgpb"
   },
   "source": [
    "## Exercise 1 - A bit of Math\n",
    "\n",
    "For these \"word\" problems, use Python to clearly solve them. Your code will \"show your work\" - use good variable names! To show your answers you should write a `print()` statement at the end.\n",
    "\n",
    "### a) It's a gas\n",
    "\n",
    "A taxi driver is calculating their profit over two weeks by adding up the fares they charge and subtracting the cost of gas. The price of gas changes over time - it was `$3.52`/gallon the first week and `$3.57`/gallon this second week. Their car gets 20 miles per gallon.\n",
    "\n",
    "For the first week the driver had a total of 23 passengers with average `$29` fare each, and drove a total of 160 miles. For the second week they had 17 passengers with average `$30` fare each, and drove a total of 220 miles. Assume that for both weeks they purchase all the gas needed during that week (i.e. they refuel every week to maintain a constant level of gas in the tank).\n",
    "\n",
    "Based on the above, answer the following questions:\n",
    "\n",
    "- What is their total profit over both weeks?\n",
    "- During which week was their average (mean) profit per passenger higher?\n"
   ]
  },
  {
   "cell_type": "code",
   "execution_count": 23,
   "metadata": {
    "colab": {},
    "colab_type": "code",
    "id": "CWJeYQW6AoGf"
   },
   "outputs": [],
   "source": [
    "def profit(passengers,fare,gas,miles):\n",
    "    return (passengers*fare) - (miles/20)*gas"
   ]
  },
  {
   "cell_type": "code",
   "execution_count": 33,
   "metadata": {},
   "outputs": [],
   "source": [
    "Week1_profit = profit(23,29,3.52,160) #Week 1\n",
    "Week2_profit = profit(17,30,3.57,220) #Week 2"
   ]
  },
  {
   "cell_type": "code",
   "execution_count": 55,
   "metadata": {},
   "outputs": [
    {
     "name": "stdout",
     "output_type": "stream",
     "text": [
      "Week 1 Profit: 638.84\n",
      "Average Profit per Passenger: 27.78\n",
      "Week 2 Profit: 470.73\n",
      "Average Profit per Passenger: 27.69\n"
     ]
    }
   ],
   "source": [
    "print(\"Week 1 Profit: \" + str(Week1_profit))\n",
    "print(\"Average Profit per Passenger: \" + str(round(Week1_profit/23,2)))\n",
    "print(\"Week 2 Profit: \" + str(Week2_profit))\n",
    "print(\"Average Profit per Passenger: \" + str(round(Week2_profit/17,2)))"
   ]
  },
  {
   "cell_type": "markdown",
   "metadata": {
    "colab_type": "text",
    "id": "0l4bUPHmR5Ko"
   },
   "source": [
    "### b) Mo' money...\n",
    "\n",
    "A cash drawer contains 160 bills, all 10s and 50s. The total value of the 10s and 50s is $1,760.\n",
    "\n",
    "How many of each type of bill are in the drawer? You can figure this out by trial and error (or by doing algebra with pencil and paper), but try to use loops and conditionals to check a plausible possibilities and stop when you find the correct one."
   ]
  },
  {
   "cell_type": "code",
   "execution_count": 135,
   "metadata": {
    "colab": {},
    "colab_type": "code",
    "id": "Q2Atz_kyR8_6"
   },
   "outputs": [],
   "source": [
    "def bill_counter(tens,fifties):\n",
    "    for i in range(1,161):\n",
    "        if (fifties*i) + (tens*(160-i)) == 1760:\n",
    "            print(f'Count of {fifties}s: {i}')\n",
    "            print(f'Count of {tens}s: {160-i}')"
   ]
  },
  {
   "cell_type": "code",
   "execution_count": 136,
   "metadata": {},
   "outputs": [
    {
     "name": "stdout",
     "output_type": "stream",
     "text": [
      "Count of 50s: 4\n",
      "Count of 10s: 156\n"
     ]
    }
   ],
   "source": [
    "bill_counter(10,50)"
   ]
  },
  {
   "cell_type": "markdown",
   "metadata": {
    "colab_type": "text",
    "id": "UCFtX_q9aQlc"
   },
   "source": [
    "## Exercise 2 - Drawing a plot\n",
    "\n",
    "Use NumPy and Matplotlib to draw a scatterplot of uniform random `(x, y)` values all drawn from the `[0, 1]` interval. Helpful documentation:\n",
    "\n",
    "*   https://matplotlib.org/tutorials/index.html\n",
    "*   https://docs.scipy.org/doc/numpy/user/quickstart.html\n",
    "\n",
    "Stretch goal - draw more plots! You can refer to the [Matplotlib gallery](https://matplotlib.org/gallery.html) for inspiration, but don't just reproduce something - try to apply it to your own data.\n",
    "\n",
    "How to get data? There's *many* ways, but a good place to get started is with [sklearn.datasets](http://scikit-learn.org/stable/datasets/index.html):\n",
    "\n",
    "```\n",
    "from sklearn import datasets\n",
    "dir(datasets)\n",
    "```"
   ]
  },
  {
   "cell_type": "code",
   "execution_count": 172,
   "metadata": {
    "colab": {},
    "colab_type": "code",
    "id": "pNEb09gMaltL"
   },
   "outputs": [
    {
     "data": {
      "image/png": "[encoded data removed]",
      "text/plain": [
       "<Figure size 432x288 with 1 Axes>"
      ]
     },
     "metadata": {
      "needs_background": "light"
     },
     "output_type": "display_data"
    }
   ],
   "source": [
    "import matplotlib.pyplot as plt\n",
    "import numpy as np\n",
    "from pydataset import data\n",
    "import seaborn as sns\n",
    "\n",
    "np.random.seed(7)\n",
    "N = 20\n",
    "x = np.random.rand(N)\n",
    "y = np.random.rand(N)\n",
    "plt.scatter(x,y)\n",
    "plt.show()"
   ]
  },
  {
   "cell_type": "code",
   "execution_count": 199,
   "metadata": {},
   "outputs": [
    {
     "data": {
      "image/png": "[encoded data removed]",
      "text/plain": [
       "<Figure size 720x720 with 2 Axes>"
      ]
     },
     "metadata": {},
     "output_type": "display_data"
    }
   ],
   "source": [
    "airquality = data('airquality')\n",
    "sns.set(style=\"white\")\n",
    "corr = airquality.corr()\n",
    "mask = np.zeros_like(corr, dtype=np.bool)\n",
    "mask[np.triu_indices_from(mask)] = True\n",
    "f, ax = plt.subplots(figsize=(10, 10))\n",
    "cmap = sns.diverging_palette(240, 10, as_cmap=True)\n",
    "plot = sns.heatmap(corr, mask=mask, cmap=cmap, vmax=.3, center=0,\n",
    "            square=True, linewidths=.5, cbar_kws={\"shrink\": .7})"
   ]
  }
 ],
 "metadata": {
  "colab": {
   "collapsed_sections": [],
   "name": "LSDS Intro Assignment 1 - Getting Started with Python.ipynb",
   "provenance": [],
   "version": "0.3.2"
  },
  "kernelspec": {
   "display_name": "Python 3",
   "language": "python",
   "name": "python3"
  },
  "language_info": {
   "codemirror_mode": {
    "name": "ipython",
    "version": 3
   },
   "file_extension": ".py",
   "mimetype": "text/x-python",
   "name": "python",
   "nbconvert_exporter": "python",
   "pygments_lexer": "ipython3",
   "version": "3.7.1"
  }
 },
 "nbformat": 4,
 "nbformat_minor": 1
}
